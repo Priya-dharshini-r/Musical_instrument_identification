{
  "nbformat": 4,
  "nbformat_minor": 0,
  "metadata": {
    "colab": {
      "name": "instrument.ipynb",
      "provenance": [],
      "collapsed_sections": [],
      "include_colab_link": true
    },
    "kernelspec": {
      "name": "python3",
      "display_name": "Python 3"
    }
  },
  "cells": [
    {
      "cell_type": "markdown",
      "metadata": {
        "id": "view-in-github",
        "colab_type": "text"
      },
      "source": [
        "<a href=\"https://colab.research.google.com/github/Priyadharshinni/Musical_instrument_identification/blob/master/instrument.ipynb\" target=\"_parent\"><img src=\"https://colab.research.google.com/assets/colab-badge.svg\" alt=\"Open In Colab\"/></a>"
      ]
    },
    {
      "cell_type": "code",
      "metadata": {
        "id": "kAXocATxxgGu",
        "colab_type": "code",
        "outputId": "4e01e713-47fb-4a95-b2c9-1a13f4cb5127",
        "colab": {
          "base_uri": "https://localhost:8080/",
          "height": 1000
        }
      },
      "source": [
        "!pip install tensorflow==2.0\n",
        "\n"
      ],
      "execution_count": 0,
      "outputs": [
        {
          "output_type": "stream",
          "text": [
            "Collecting tensorflow==2.0\n",
            "\u001b[?25l  Downloading https://files.pythonhosted.org/packages/46/0f/7bd55361168bb32796b360ad15a25de6966c9c1beb58a8e30c01c8279862/tensorflow-2.0.0-cp36-cp36m-manylinux2010_x86_64.whl (86.3MB)\n",
            "\u001b[K     |████████████████████████████████| 86.3MB 67kB/s \n",
            "\u001b[?25hRequirement already satisfied: opt-einsum>=2.3.2 in /usr/local/lib/python3.6/dist-packages (from tensorflow==2.0) (3.2.1)\n",
            "Requirement already satisfied: google-pasta>=0.1.6 in /usr/local/lib/python3.6/dist-packages (from tensorflow==2.0) (0.2.0)\n",
            "Collecting gast==0.2.2\n",
            "  Downloading https://files.pythonhosted.org/packages/4e/35/11749bf99b2d4e3cceb4d55ca22590b0d7c2c62b9de38ac4a4a7f4687421/gast-0.2.2.tar.gz\n",
            "Requirement already satisfied: numpy<2.0,>=1.16.0 in /usr/local/lib/python3.6/dist-packages (from tensorflow==2.0) (1.18.3)\n",
            "Requirement already satisfied: protobuf>=3.6.1 in /usr/local/lib/python3.6/dist-packages (from tensorflow==2.0) (3.10.0)\n",
            "Requirement already satisfied: termcolor>=1.1.0 in /usr/local/lib/python3.6/dist-packages (from tensorflow==2.0) (1.1.0)\n",
            "Requirement already satisfied: absl-py>=0.7.0 in /usr/local/lib/python3.6/dist-packages (from tensorflow==2.0) (0.9.0)\n",
            "Requirement already satisfied: keras-applications>=1.0.8 in /usr/local/lib/python3.6/dist-packages (from tensorflow==2.0) (1.0.8)\n",
            "Requirement already satisfied: keras-preprocessing>=1.0.5 in /usr/local/lib/python3.6/dist-packages (from tensorflow==2.0) (1.1.0)\n",
            "Collecting tensorboard<2.1.0,>=2.0.0\n",
            "\u001b[?25l  Downloading https://files.pythonhosted.org/packages/76/54/99b9d5d52d5cb732f099baaaf7740403e83fe6b0cedde940fabd2b13d75a/tensorboard-2.0.2-py3-none-any.whl (3.8MB)\n",
            "\u001b[K     |████████████████████████████████| 3.8MB 40.5MB/s \n",
            "\u001b[?25hRequirement already satisfied: wrapt>=1.11.1 in /usr/local/lib/python3.6/dist-packages (from tensorflow==2.0) (1.12.1)\n",
            "Requirement already satisfied: astor>=0.6.0 in /usr/local/lib/python3.6/dist-packages (from tensorflow==2.0) (0.8.1)\n",
            "Collecting tensorflow-estimator<2.1.0,>=2.0.0\n",
            "\u001b[?25l  Downloading https://files.pythonhosted.org/packages/fc/08/8b927337b7019c374719145d1dceba21a8bb909b93b1ad6f8fb7d22c1ca1/tensorflow_estimator-2.0.1-py2.py3-none-any.whl (449kB)\n",
            "\u001b[K     |████████████████████████████████| 450kB 43.5MB/s \n",
            "\u001b[?25hRequirement already satisfied: wheel>=0.26 in /usr/local/lib/python3.6/dist-packages (from tensorflow==2.0) (0.34.2)\n",
            "Requirement already satisfied: grpcio>=1.8.6 in /usr/local/lib/python3.6/dist-packages (from tensorflow==2.0) (1.28.1)\n",
            "Requirement already satisfied: six>=1.10.0 in /usr/local/lib/python3.6/dist-packages (from tensorflow==2.0) (1.12.0)\n",
            "Requirement already satisfied: setuptools in /usr/local/lib/python3.6/dist-packages (from protobuf>=3.6.1->tensorflow==2.0) (46.1.3)\n",
            "Requirement already satisfied: h5py in /usr/local/lib/python3.6/dist-packages (from keras-applications>=1.0.8->tensorflow==2.0) (2.10.0)\n",
            "Requirement already satisfied: google-auth-oauthlib<0.5,>=0.4.1 in /usr/local/lib/python3.6/dist-packages (from tensorboard<2.1.0,>=2.0.0->tensorflow==2.0) (0.4.1)\n",
            "Requirement already satisfied: requests<3,>=2.21.0 in /usr/local/lib/python3.6/dist-packages (from tensorboard<2.1.0,>=2.0.0->tensorflow==2.0) (2.23.0)\n",
            "Requirement already satisfied: google-auth<2,>=1.6.3 in /usr/local/lib/python3.6/dist-packages (from tensorboard<2.1.0,>=2.0.0->tensorflow==2.0) (1.7.2)\n",
            "Requirement already satisfied: markdown>=2.6.8 in /usr/local/lib/python3.6/dist-packages (from tensorboard<2.1.0,>=2.0.0->tensorflow==2.0) (3.2.1)\n",
            "Requirement already satisfied: werkzeug>=0.11.15 in /usr/local/lib/python3.6/dist-packages (from tensorboard<2.1.0,>=2.0.0->tensorflow==2.0) (1.0.1)\n",
            "Requirement already satisfied: requests-oauthlib>=0.7.0 in /usr/local/lib/python3.6/dist-packages (from google-auth-oauthlib<0.5,>=0.4.1->tensorboard<2.1.0,>=2.0.0->tensorflow==2.0) (1.3.0)\n",
            "Requirement already satisfied: chardet<4,>=3.0.2 in /usr/local/lib/python3.6/dist-packages (from requests<3,>=2.21.0->tensorboard<2.1.0,>=2.0.0->tensorflow==2.0) (3.0.4)\n",
            "Requirement already satisfied: certifi>=2017.4.17 in /usr/local/lib/python3.6/dist-packages (from requests<3,>=2.21.0->tensorboard<2.1.0,>=2.0.0->tensorflow==2.0) (2020.4.5.1)\n",
            "Requirement already satisfied: urllib3!=1.25.0,!=1.25.1,<1.26,>=1.21.1 in /usr/local/lib/python3.6/dist-packages (from requests<3,>=2.21.0->tensorboard<2.1.0,>=2.0.0->tensorflow==2.0) (1.24.3)\n",
            "Requirement already satisfied: idna<3,>=2.5 in /usr/local/lib/python3.6/dist-packages (from requests<3,>=2.21.0->tensorboard<2.1.0,>=2.0.0->tensorflow==2.0) (2.9)\n",
            "Requirement already satisfied: rsa<4.1,>=3.1.4 in /usr/local/lib/python3.6/dist-packages (from google-auth<2,>=1.6.3->tensorboard<2.1.0,>=2.0.0->tensorflow==2.0) (4.0)\n",
            "Requirement already satisfied: cachetools<3.2,>=2.0.0 in /usr/local/lib/python3.6/dist-packages (from google-auth<2,>=1.6.3->tensorboard<2.1.0,>=2.0.0->tensorflow==2.0) (3.1.1)\n",
            "Requirement already satisfied: pyasn1-modules>=0.2.1 in /usr/local/lib/python3.6/dist-packages (from google-auth<2,>=1.6.3->tensorboard<2.1.0,>=2.0.0->tensorflow==2.0) (0.2.8)\n",
            "Requirement already satisfied: oauthlib>=3.0.0 in /usr/local/lib/python3.6/dist-packages (from requests-oauthlib>=0.7.0->google-auth-oauthlib<0.5,>=0.4.1->tensorboard<2.1.0,>=2.0.0->tensorflow==2.0) (3.1.0)\n",
            "Requirement already satisfied: pyasn1>=0.1.3 in /usr/local/lib/python3.6/dist-packages (from rsa<4.1,>=3.1.4->google-auth<2,>=1.6.3->tensorboard<2.1.0,>=2.0.0->tensorflow==2.0) (0.4.8)\n",
            "Building wheels for collected packages: gast\n",
            "  Building wheel for gast (setup.py) ... \u001b[?25l\u001b[?25hdone\n",
            "  Created wheel for gast: filename=gast-0.2.2-cp36-none-any.whl size=7540 sha256=39ff99d59d67b15f729666e64204782a293962698851d5c4d26dbece79bb2d69\n",
            "  Stored in directory: /root/.cache/pip/wheels/5c/2e/7e/a1d4d4fcebe6c381f378ce7743a3ced3699feb89bcfbdadadd\n",
            "Successfully built gast\n",
            "\u001b[31mERROR: tensorflow-probability 0.10.0rc0 has requirement gast>=0.3.2, but you'll have gast 0.2.2 which is incompatible.\u001b[0m\n",
            "Installing collected packages: gast, tensorboard, tensorflow-estimator, tensorflow\n",
            "  Found existing installation: gast 0.3.3\n",
            "    Uninstalling gast-0.3.3:\n",
            "      Successfully uninstalled gast-0.3.3\n",
            "  Found existing installation: tensorboard 2.2.1\n",
            "    Uninstalling tensorboard-2.2.1:\n",
            "      Successfully uninstalled tensorboard-2.2.1\n",
            "  Found existing installation: tensorflow-estimator 2.2.0\n",
            "    Uninstalling tensorflow-estimator-2.2.0:\n",
            "      Successfully uninstalled tensorflow-estimator-2.2.0\n",
            "  Found existing installation: tensorflow 2.2.0rc4\n",
            "    Uninstalling tensorflow-2.2.0rc4:\n",
            "      Successfully uninstalled tensorflow-2.2.0rc4\n",
            "Successfully installed gast-0.2.2 tensorboard-2.0.2 tensorflow-2.0.0 tensorflow-estimator-2.0.1\n"
          ],
          "name": "stdout"
        },
        {
          "output_type": "display_data",
          "data": {
            "application/vnd.colab-display-data+json": {
              "pip_warning": {
                "packages": [
                  "gast",
                  "tensorboard",
                  "tensorflow"
                ]
              }
            }
          },
          "metadata": {
            "tags": []
          }
        }
      ]
    },
    {
      "cell_type": "markdown",
      "metadata": {
        "id": "oNKCHnBYvoaz",
        "colab_type": "text"
      },
      "source": [
        ""
      ]
    },
    {
      "cell_type": "code",
      "metadata": {
        "id": "Pd0KYtnrvo4v",
        "colab_type": "code",
        "colab": {}
      },
      "source": [
        ""
      ],
      "execution_count": 0,
      "outputs": []
    },
    {
      "cell_type": "code",
      "metadata": {
        "id": "C3Q2XZeqwlz5",
        "colab_type": "code",
        "colab": {}
      },
      "source": [
        "# Imports\n",
        "\n",
        "#General\n",
        "import numpy as np\n",
        "import pickle\n",
        "import itertools\n",
        "\n",
        "# System\n",
        "import os, fnmatch\n",
        "\n",
        "# Visualization\n",
        "import seaborn #visualization library, must be imported before all other plotting libraries\n",
        "import matplotlib.pyplot as plt\n",
        "from IPython.core.display import HTML, display, Image\n",
        "\n",
        "from pandas.testing import assert_frame_equal\n",
        "import pandas\n",
        "\n",
        "# Machine Learning\n",
        "from sklearn.preprocessing import LabelEncoder, OneHotEncoder\n",
        "from sklearn.model_selection import StratifiedShuffleSplit, GridSearchCV\n",
        "from sklearn.neighbors import KNeighborsClassifier\n",
        "from sklearn.metrics import recall_score, precision_score, accuracy_score\n",
        "from sklearn.metrics import confusion_matrix, f1_score, classification_report\n",
        "from sklearn.metrics import classification_report\n",
        "\n",
        "# Deep Learning\n",
        "from keras import backend as K\n",
        "from keras.layers import Input, Dense\n",
        "from keras.models import Model, Sequential\n",
        "from keras.optimizers import SGD\n",
        "from keras.callbacks import History\n",
        "from keras.wrappers.scikit_learn import KerasClassifier\n",
        "from keras.utils import plot_model\n",
        "\n",
        "# Random Seed\n",
        "import random\n",
        "import tensorflow\n",
        "tensorflow.random.set_seed(1)\n",
        "from numpy.random import seed\n",
        "             #seed(1)\n",
        "             #random.set_seed(1)\n",
        "# Audio\n",
        "import librosa.display, librosa\n",
        "\n",
        "# Configurations\n",
        "path='sample'"
      ],
      "execution_count": 0,
      "outputs": []
    },
    {
      "cell_type": "code",
      "metadata": {
        "id": "eLBr_pBK28ho",
        "colab_type": "code",
        "colab": {}
      },
      "source": [
        ""
      ],
      "execution_count": 0,
      "outputs": []
    },
    {
      "cell_type": "code",
      "metadata": {
        "id": "Ms4zgrPb3dPl",
        "colab_type": "code",
        "outputId": "d48268c1-c768-437c-991a-ac1fd775c9b2",
        "colab": {
          "base_uri": "https://localhost:8080/",
          "height": 34
        }
      },
      "source": [
        "# Get files in data path\n",
        "\n",
        "files = []\n",
        "for root, dirnames, filenames in os.walk(path):\n",
        "    for filename in fnmatch.filter(filenames, '*.mp3'):\n",
        "        files.append(os.path.join(root, filename))\n",
        "\n",
        "print(\"found %d audio files in %s\"%(len(files),path))"
      ],
      "execution_count": 0,
      "outputs": [
        {
          "output_type": "stream",
          "text": [
            "found 30 audio files in sample\n"
          ],
          "name": "stdout"
        }
      ]
    },
    {
      "cell_type": "code",
      "metadata": {
        "id": "4c4I-WzC-KFw",
        "colab_type": "code",
        "colab": {}
      },
      "source": [
        "filename=\"inst_labels.pl\"\n",
        "# Load labels\n",
        "with open(filename, \"rb\") as f:\n",
        "    labels = pickle.load( open( filename, \"rb\" ) )"
      ],
      "execution_count": 0,
      "outputs": []
    },
    {
      "cell_type": "code",
      "metadata": {
        "id": "HKkMn6Pw-QWT",
        "colab_type": "code",
        "outputId": "b7ec5294-8e18-4cf6-f411-ed52f66241f0",
        "colab": {
          "base_uri": "https://localhost:8080/",
          "height": 34
        }
      },
      "source": [
        "# Encode Labels\n",
        "labelencoder = LabelEncoder()\n",
        "labelencoder.fit(labels)\n",
        "print(len(labelencoder.classes_), \"classes:\", \", \".join(list(labelencoder.classes_)))\n",
        "classes_num = labelencoder.transform(labels)"
      ],
      "execution_count": 0,
      "outputs": [
        {
          "output_type": "stream",
          "text": [
            "6 classes: cello, flute, oboe, sax, trumpet, viola\n"
          ],
          "name": "stdout"
        }
      ]
    },
    {
      "cell_type": "code",
      "metadata": {
        "id": "1Qa46JwS-fgg",
        "colab_type": "code",
        "outputId": "3006ed09-04ca-428f-c9e6-a1aff8f75e8a",
        "colab": {
          "base_uri": "https://localhost:8080/",
          "height": 50
        }
      },
      "source": [
        "print('Labels:', labels[:3])\n",
        "print('Encoded Classes: ', classes_num[0:3])"
      ],
      "execution_count": 0,
      "outputs": [
        {
          "output_type": "stream",
          "text": [
            "Labels: ['oboe', 'oboe', 'oboe']\n",
            "Encoded Classes:  [2 2 2]\n"
          ],
          "name": "stdout"
        }
      ]
    },
    {
      "cell_type": "code",
      "metadata": {
        "id": "LZuUNYzO-jxo",
        "colab_type": "code",
        "colab": {}
      },
      "source": [
        "# Machine Learning Parameters\n",
        "testset_size = 0.25 #Percentage of data for Testing\n",
        "\n",
        "\n",
        "\n",
        "filename=\"mfcc_feature_vectors.pl\"\n",
        "# Load mfcc features from saved file\n",
        "with open(filename, \"rb\") as f:\n",
        "    scaled_feature_vectors = pickle.load( open( filename, \"rb\" ) )"
      ],
      "execution_count": 0,
      "outputs": []
    },
    {
      "cell_type": "code",
      "metadata": {
        "id": "S_sc2WLi-uRE",
        "colab_type": "code",
        "colab": {}
      },
      "source": [
        "# Create Train and Test Set\n",
        "splitter = StratifiedShuffleSplit(n_splits=1, test_size=testset_size, random_state=0)\n",
        "splits = splitter.split(scaled_feature_vectors, classes_num)\n",
        "for train_index, test_index in splits:\n",
        "    train_set = scaled_feature_vectors[train_index]\n",
        "    test_set = scaled_feature_vectors[test_index]\n",
        "    train_classes = classes_num[train_index]\n",
        "    test_classes = classes_num[test_index]"
      ],
      "execution_count": 0,
      "outputs": []
    },
    {
      "cell_type": "code",
      "metadata": {
        "id": "Pn26BICoF6ZH",
        "colab_type": "code",
        "outputId": "49f644d8-34d7-4440-d7f5-b54e533c6ab4",
        "colab": {
          "base_uri": "https://localhost:8080/",
          "height": 84
        }
      },
      "source": [
        "# Check Set Shapes\n",
        "print(\"train_set shape:\",train_set.shape)\n",
        "print(\"test_set shape:\",test_set.shape)\n",
        "print(\"train_classes shape:\",train_classes.shape)\n",
        "print(\"test_classes shape:\",test_classes.shape)"
      ],
      "execution_count": 0,
      "outputs": [
        {
          "output_type": "stream",
          "text": [
            "train_set shape: (450, 13)\n",
            "test_set shape: (150, 13)\n",
            "train_classes shape: (450,)\n",
            "test_classes shape: (150,)\n"
          ],
          "name": "stdout"
        }
      ]
    },
    {
      "cell_type": "code",
      "metadata": {
        "id": "RxDAYEPyGEf2",
        "colab_type": "code",
        "colab": {}
      },
      "source": [
        "# DNN\n",
        "# Use Keras Backend Type\n",
        "train_set_d=train_set.astype(K.floatx())\n",
        "test_set_d=test_set.astype(K.floatx())"
      ],
      "execution_count": 0,
      "outputs": []
    },
    {
      "cell_type": "code",
      "metadata": {
        "id": "z7SMf2JoIXCd",
        "colab_type": "code",
        "colab": {}
      },
      "source": [
        "# One Hot encode\n",
        "onehot_encoder = OneHotEncoder(sparse=False, categories='auto')\n",
        "integer_encoded_train_classes =  train_classes.reshape(len( train_classes), 1)\n",
        "onehot_encoded_train_classes = onehot_encoder.fit_transform(integer_encoded_train_classes,1)\n",
        "integer_encoded_test_classes =  test_classes.reshape(len( test_classes),1)\n",
        "onehot_encoded_test_classes = onehot_encoder.fit_transform(integer_encoded_test_classes,1)"
      ],
      "execution_count": 0,
      "outputs": []
    },
    {
      "cell_type": "code",
      "metadata": {
        "id": "AUOwxfEvIckL",
        "colab_type": "code",
        "outputId": "c840d115-481a-4eba-aa3c-69f27512d8d7",
        "colab": {
          "base_uri": "https://localhost:8080/",
          "height": 118
        }
      },
      "source": [
        "\n",
        "print('Integer Encoded:', integer_encoded_train_classes[:3] )\n",
        "print('One-hot Encoded: ', onehot_encoded_train_classes[:3] )"
      ],
      "execution_count": 0,
      "outputs": [
        {
          "output_type": "stream",
          "text": [
            "Integer Encoded: [[0]\n",
            " [2]\n",
            " [1]]\n",
            "One-hot Encoded:  [[1. 0. 0. 0. 0. 0.]\n",
            " [0. 0. 1. 0. 0. 0.]\n",
            " [0. 1. 0. 0. 0. 0.]]\n"
          ],
          "name": "stdout"
        }
      ]
    },
    {
      "cell_type": "code",
      "metadata": {
        "id": "1mJNt-UjIhzn",
        "colab_type": "code",
        "outputId": "932327ce-19cb-4c67-f435-dd8e1df035bf",
        "colab": {
          "base_uri": "https://localhost:8080/",
          "height": 84
        }
      },
      "source": [
        "# Check Set Shapes\n",
        "print(\"train_set shape:\",train_set_d.shape)\n",
        "print(\"test_set shape:\",test_set_d.shape)\n",
        "print(\"train_classes shape:\",onehot_encoded_train_classes.shape)\n",
        "print(\"test_classes shape:\",onehot_encoded_test_classes.shape)"
      ],
      "execution_count": 0,
      "outputs": [
        {
          "output_type": "stream",
          "text": [
            "train_set shape: (450, 13)\n",
            "test_set shape: (150, 13)\n",
            "train_classes shape: (450, 6)\n",
            "test_classes shape: (150, 6)\n"
          ],
          "name": "stdout"
        }
      ]
    },
    {
      "cell_type": "code",
      "metadata": {
        "id": "NuPnPO1RImL4",
        "colab_type": "code",
        "colab": {}
      },
      "source": [
        "# Reshape Sets for Keras\n",
        "train_set_d=train_set.reshape(train_set_d.shape[0],1,train_set_d.shape[1])\n",
        "test_set_d=test_set.reshape(test_set_d.shape[0],1,test_set_d.shape[1])\n",
        "train_classes_d_hot=onehot_encoded_train_classes.reshape(onehot_encoded_train_classes.shape[0],1,\n",
        "                                                         onehot_encoded_train_classes.shape[1])\n",
        "test_classes_d_hot=onehot_encoded_test_classes.reshape(onehot_encoded_test_classes.shape[0],1,\n",
        "                                                       onehot_encoded_test_classes.shape[1])"
      ],
      "execution_count": 0,
      "outputs": []
    },
    {
      "cell_type": "code",
      "metadata": {
        "id": "_ppMezCNIrAn",
        "colab_type": "code",
        "outputId": "de80d850-af05-48b6-8cf1-c9188ff674f2",
        "colab": {
          "base_uri": "https://localhost:8080/",
          "height": 84
        }
      },
      "source": [
        "# Check Set Shapes\n",
        "print(\"train_set shape:\",train_set_d.shape)\n",
        "print(\"test_set shape:\",train_set_d.shape)\n",
        "print(\"train_classes shape:\",train_classes_d_hot.shape)\n",
        "print(\"test_classes shape:\",test_classes_d_hot.shape)"
      ],
      "execution_count": 0,
      "outputs": [
        {
          "output_type": "stream",
          "text": [
            "train_set shape: (450, 1, 13)\n",
            "test_set shape: (450, 1, 13)\n",
            "train_classes shape: (450, 1, 6)\n",
            "test_classes shape: (150, 1, 6)\n"
          ],
          "name": "stdout"
        }
      ]
    },
    {
      "cell_type": "code",
      "metadata": {
        "id": "fUes5jPgIyKg",
        "colab_type": "code",
        "outputId": "50663b4b-43d5-49a6-8f04-8d690e9dcd68",
        "colab": {
          "base_uri": "https://localhost:8080/",
          "height": 319
        }
      },
      "source": [
        "model_input = Input(shape=(1,train_set.shape[1]))\n",
        "fc1 = Dense(12, activation=\"relu\")(model_input)\n",
        "fc2 = Dense(10, activation=\"relu\")(fc1)\n",
        "fc3 = Dense(8, activation=\"relu\")(fc2)\n",
        "fc4 = Dense(6, activation=\"relu\")(fc2)\n",
        "n=onehot_encoded_train_classes.shape[1]\n",
        "out = Dense(n, activation=\"softmax\")(fc4)\n",
        "model_d = Model(inputs=[model_input], outputs=[out])\n",
        "model_d.summary()"
      ],
      "execution_count": 0,
      "outputs": [
        {
          "output_type": "stream",
          "text": [
            "Model: \"model_1\"\n",
            "_________________________________________________________________\n",
            "Layer (type)                 Output Shape              Param #   \n",
            "=================================================================\n",
            "input_1 (InputLayer)         (None, 1, 13)             0         \n",
            "_________________________________________________________________\n",
            "dense_1 (Dense)              (None, 1, 12)             168       \n",
            "_________________________________________________________________\n",
            "dense_2 (Dense)              (None, 1, 10)             130       \n",
            "_________________________________________________________________\n",
            "dense_4 (Dense)              (None, 1, 6)              66        \n",
            "_________________________________________________________________\n",
            "dense_5 (Dense)              (None, 1, 6)              42        \n",
            "=================================================================\n",
            "Total params: 406\n",
            "Trainable params: 406\n",
            "Non-trainable params: 0\n",
            "_________________________________________________________________\n"
          ],
          "name": "stdout"
        }
      ]
    },
    {
      "cell_type": "code",
      "metadata": {
        "id": "HBGLROIwI2hN",
        "colab_type": "code",
        "outputId": "cee7ce88-4374-4ba9-eb0c-3a560bd50035",
        "colab": {
          "base_uri": "https://localhost:8080/",
          "height": 533
        }
      },
      "source": [
        "plot_model(model_d, to_file='model_d.png', show_shapes=True)\n",
        "Image('model_d.png')"
      ],
      "execution_count": 0,
      "outputs": [
        {
          "output_type": "execute_result",
          "data": {
            "image/png": "[encoded data removed]",
            "text/plain": [
              "<IPython.core.display.Image object>"
            ]
          },
          "metadata": {
            "tags": []
          },
          "execution_count": 30
        }
      ]
    },
    {
      "cell_type": "code",
      "metadata": {
        "id": "jlMWfEh3I-qd",
        "colab_type": "code",
        "colab": {}
      },
      "source": [
        "# Compile Model\n",
        "model_d.compile(loss      = 'categorical_crossentropy',\n",
        "              optimizer = SGD(lr=0.05),\n",
        "              metrics   =['accuracy'])"
      ],
      "execution_count": 0,
      "outputs": []
    },
    {
      "cell_type": "code",
      "metadata": {
        "id": "10TD3G3zJEle",
        "colab_type": "code",
        "outputId": "7f8115e2-ab32-4518-aa53-7df9f1e6ab6a",
        "colab": {
          "base_uri": "https://localhost:8080/",
          "height": 1000
        }
      },
      "source": [
        "# Deep Learning Parameters\n",
        "batch_size = 5 # Number of samples per gradient update.\n",
        "epochs = 200    # An epoch is an iteration over the entire x and y data provided.\n",
        "\n",
        "# Train Model\n",
        "hist = model_d.fit(train_set_d, train_classes_d_hot, verbose=1, \n",
        "                    batch_size=batch_size, epochs=epochs, validation_data=(test_set_d,test_classes_d_hot))"
      ],
      "execution_count": 0,
      "outputs": [
        {
          "output_type": "stream",
          "text": [
            "Train on 450 samples, validate on 150 samples\n",
            "Epoch 1/200\n",
            "450/450 [==============================] - 1s 1ms/step - loss: 1.6629 - accuracy: 0.3200 - val_loss: 1.4905 - val_accuracy: 0.3400\n",
            "Epoch 2/200\n",
            "450/450 [==============================] - 0s 309us/step - loss: 1.3301 - accuracy: 0.4822 - val_loss: 1.1899 - val_accuracy: 0.5200\n",
            "Epoch 3/200\n",
            "450/450 [==============================] - 0s 305us/step - loss: 1.0655 - accuracy: 0.6044 - val_loss: 0.9545 - val_accuracy: 0.6933\n",
            "Epoch 4/200\n",
            "450/450 [==============================] - 0s 302us/step - loss: 0.8375 - accuracy: 0.7378 - val_loss: 0.7854 - val_accuracy: 0.7400\n",
            "Epoch 5/200\n",
            "450/450 [==============================] - 0s 303us/step - loss: 0.6579 - accuracy: 0.8222 - val_loss: 0.5696 - val_accuracy: 0.8733\n",
            "Epoch 6/200\n",
            "450/450 [==============================] - 0s 308us/step - loss: 0.5151 - accuracy: 0.8711 - val_loss: 0.4983 - val_accuracy: 0.8933\n",
            "Epoch 7/200\n",
            "450/450 [==============================] - 0s 311us/step - loss: 0.3846 - accuracy: 0.9089 - val_loss: 0.5480 - val_accuracy: 0.8200\n",
            "Epoch 8/200\n",
            "450/450 [==============================] - 0s 318us/step - loss: 0.3019 - accuracy: 0.9267 - val_loss: 0.2721 - val_accuracy: 0.9333\n",
            "Epoch 9/200\n",
            "450/450 [==============================] - 0s 299us/step - loss: 0.2364 - accuracy: 0.9578 - val_loss: 0.2528 - val_accuracy: 0.9267\n",
            "Epoch 10/200\n",
            "450/450 [==============================] - 0s 302us/step - loss: 0.1720 - accuracy: 0.9756 - val_loss: 0.2616 - val_accuracy: 0.9067\n",
            "Epoch 11/200\n",
            "450/450 [==============================] - 0s 301us/step - loss: 0.1458 - accuracy: 0.9733 - val_loss: 0.2190 - val_accuracy: 0.9400\n",
            "Epoch 12/200\n",
            "450/450 [==============================] - 0s 308us/step - loss: 0.1621 - accuracy: 0.9689 - val_loss: 0.1794 - val_accuracy: 0.9600\n",
            "Epoch 13/200\n",
            "450/450 [==============================] - 0s 298us/step - loss: 0.1256 - accuracy: 0.9667 - val_loss: 0.3954 - val_accuracy: 0.8600\n",
            "Epoch 14/200\n",
            "450/450 [==============================] - 0s 303us/step - loss: 0.1128 - accuracy: 0.9778 - val_loss: 0.1677 - val_accuracy: 0.9267\n",
            "Epoch 15/200\n",
            "450/450 [==============================] - 0s 311us/step - loss: 0.1204 - accuracy: 0.9733 - val_loss: 0.1461 - val_accuracy: 0.9667\n",
            "Epoch 16/200\n",
            "450/450 [==============================] - 0s 307us/step - loss: 0.0872 - accuracy: 0.9778 - val_loss: 0.2527 - val_accuracy: 0.9400\n",
            "Epoch 17/200\n",
            "450/450 [==============================] - 0s 307us/step - loss: 0.1038 - accuracy: 0.9711 - val_loss: 0.1302 - val_accuracy: 0.9733\n",
            "Epoch 18/200\n",
            "450/450 [==============================] - 0s 302us/step - loss: 0.0821 - accuracy: 0.9844 - val_loss: 0.1283 - val_accuracy: 0.9667\n",
            "Epoch 19/200\n",
            "450/450 [==============================] - 0s 299us/step - loss: 0.0720 - accuracy: 0.9844 - val_loss: 0.1588 - val_accuracy: 0.9267\n",
            "Epoch 20/200\n",
            "450/450 [==============================] - 0s 299us/step - loss: 0.0746 - accuracy: 0.9867 - val_loss: 0.1457 - val_accuracy: 0.9400\n",
            "Epoch 21/200\n",
            "450/450 [==============================] - 0s 309us/step - loss: 0.0479 - accuracy: 0.9933 - val_loss: 0.1724 - val_accuracy: 0.9600\n",
            "Epoch 22/200\n",
            "450/450 [==============================] - 0s 310us/step - loss: 0.0485 - accuracy: 0.9889 - val_loss: 0.1644 - val_accuracy: 0.9533\n",
            "Epoch 23/200\n",
            "450/450 [==============================] - 0s 303us/step - loss: 0.0483 - accuracy: 0.9844 - val_loss: 0.1427 - val_accuracy: 0.9467\n",
            "Epoch 24/200\n",
            "450/450 [==============================] - 0s 332us/step - loss: 0.0433 - accuracy: 0.9911 - val_loss: 0.0999 - val_accuracy: 0.9600\n",
            "Epoch 25/200\n",
            "450/450 [==============================] - 0s 294us/step - loss: 0.0533 - accuracy: 0.9844 - val_loss: 0.1300 - val_accuracy: 0.9600\n",
            "Epoch 26/200\n",
            "450/450 [==============================] - 0s 319us/step - loss: 0.0907 - accuracy: 0.9800 - val_loss: 0.1366 - val_accuracy: 0.9533\n",
            "Epoch 27/200\n",
            "450/450 [==============================] - 0s 302us/step - loss: 0.0486 - accuracy: 0.9911 - val_loss: 0.1295 - val_accuracy: 0.9600\n",
            "Epoch 28/200\n",
            "450/450 [==============================] - 0s 305us/step - loss: 0.0283 - accuracy: 0.9978 - val_loss: 0.1638 - val_accuracy: 0.9333\n",
            "Epoch 29/200\n",
            "450/450 [==============================] - 0s 326us/step - loss: 0.0206 - accuracy: 0.9978 - val_loss: 0.1228 - val_accuracy: 0.9600\n",
            "Epoch 30/200\n",
            "450/450 [==============================] - 0s 297us/step - loss: 0.0204 - accuracy: 1.0000 - val_loss: 0.1175 - val_accuracy: 0.9600\n",
            "Epoch 31/200\n",
            "450/450 [==============================] - 0s 301us/step - loss: 0.0209 - accuracy: 0.9978 - val_loss: 0.1495 - val_accuracy: 0.9467\n",
            "Epoch 32/200\n",
            "450/450 [==============================] - 0s 302us/step - loss: 0.0201 - accuracy: 0.9978 - val_loss: 0.1628 - val_accuracy: 0.9333\n",
            "Epoch 33/200\n",
            "450/450 [==============================] - 0s 301us/step - loss: 0.0222 - accuracy: 0.9933 - val_loss: 0.1192 - val_accuracy: 0.9600\n",
            "Epoch 34/200\n",
            "450/450 [==============================] - 0s 308us/step - loss: 0.0207 - accuracy: 0.9956 - val_loss: 0.1279 - val_accuracy: 0.9600\n",
            "Epoch 35/200\n",
            "450/450 [==============================] - 0s 290us/step - loss: 0.0573 - accuracy: 0.9800 - val_loss: 0.1512 - val_accuracy: 0.9533\n",
            "Epoch 36/200\n",
            "450/450 [==============================] - 0s 296us/step - loss: 0.0185 - accuracy: 0.9956 - val_loss: 0.1361 - val_accuracy: 0.9400\n",
            "Epoch 37/200\n",
            "450/450 [==============================] - 0s 319us/step - loss: 0.0159 - accuracy: 0.9978 - val_loss: 0.1368 - val_accuracy: 0.9400\n",
            "Epoch 38/200\n",
            "450/450 [==============================] - 0s 295us/step - loss: 0.0155 - accuracy: 0.9978 - val_loss: 0.1416 - val_accuracy: 0.9467\n",
            "Epoch 39/200\n",
            "450/450 [==============================] - 0s 309us/step - loss: 0.0193 - accuracy: 0.9933 - val_loss: 0.1254 - val_accuracy: 0.9533\n",
            "Epoch 40/200\n",
            "450/450 [==============================] - 0s 297us/step - loss: 0.0106 - accuracy: 1.0000 - val_loss: 0.1286 - val_accuracy: 0.9533\n",
            "Epoch 41/200\n",
            "450/450 [==============================] - 0s 303us/step - loss: 0.0106 - accuracy: 1.0000 - val_loss: 0.1370 - val_accuracy: 0.9600\n",
            "Epoch 42/200\n",
            "450/450 [==============================] - 0s 310us/step - loss: 0.0102 - accuracy: 1.0000 - val_loss: 0.1287 - val_accuracy: 0.9600\n",
            "Epoch 43/200\n",
            "450/450 [==============================] - 0s 300us/step - loss: 0.0087 - accuracy: 1.0000 - val_loss: 0.1290 - val_accuracy: 0.9533\n",
            "Epoch 44/200\n",
            "450/450 [==============================] - 0s 313us/step - loss: 0.0084 - accuracy: 1.0000 - val_loss: 0.1354 - val_accuracy: 0.9600\n",
            "Epoch 45/200\n",
            "450/450 [==============================] - 0s 298us/step - loss: 0.0080 - accuracy: 1.0000 - val_loss: 0.1314 - val_accuracy: 0.9600\n",
            "Epoch 46/200\n",
            "450/450 [==============================] - 0s 306us/step - loss: 0.0076 - accuracy: 1.0000 - val_loss: 0.1342 - val_accuracy: 0.9533\n",
            "Epoch 47/200\n",
            "450/450 [==============================] - 0s 307us/step - loss: 0.0076 - accuracy: 1.0000 - val_loss: 0.1327 - val_accuracy: 0.9600\n",
            "Epoch 48/200\n",
            "450/450 [==============================] - 0s 302us/step - loss: 0.0073 - accuracy: 1.0000 - val_loss: 0.1369 - val_accuracy: 0.9600\n",
            "Epoch 49/200\n",
            "450/450 [==============================] - 0s 303us/step - loss: 0.0072 - accuracy: 1.0000 - val_loss: 0.1414 - val_accuracy: 0.9600\n",
            "Epoch 50/200\n",
            "450/450 [==============================] - 0s 298us/step - loss: 0.0069 - accuracy: 1.0000 - val_loss: 0.1381 - val_accuracy: 0.9600\n",
            "Epoch 51/200\n",
            "450/450 [==============================] - 0s 308us/step - loss: 0.0066 - accuracy: 1.0000 - val_loss: 0.1390 - val_accuracy: 0.9533\n",
            "Epoch 52/200\n",
            "450/450 [==============================] - 0s 304us/step - loss: 0.0065 - accuracy: 1.0000 - val_loss: 0.1392 - val_accuracy: 0.9600\n",
            "Epoch 53/200\n",
            "450/450 [==============================] - 0s 295us/step - loss: 0.0062 - accuracy: 1.0000 - val_loss: 0.1450 - val_accuracy: 0.9533\n",
            "Epoch 54/200\n",
            "450/450 [==============================] - 0s 303us/step - loss: 0.0062 - accuracy: 1.0000 - val_loss: 0.1400 - val_accuracy: 0.9533\n",
            "Epoch 55/200\n",
            "450/450 [==============================] - 0s 292us/step - loss: 0.0058 - accuracy: 1.0000 - val_loss: 0.1443 - val_accuracy: 0.9533\n",
            "Epoch 56/200\n",
            "450/450 [==============================] - 0s 295us/step - loss: 0.0056 - accuracy: 1.0000 - val_loss: 0.1430 - val_accuracy: 0.9600\n",
            "Epoch 57/200\n",
            "450/450 [==============================] - 0s 327us/step - loss: 0.0056 - accuracy: 1.0000 - val_loss: 0.1402 - val_accuracy: 0.9600\n",
            "Epoch 58/200\n",
            "450/450 [==============================] - 0s 303us/step - loss: 0.0054 - accuracy: 1.0000 - val_loss: 0.1429 - val_accuracy: 0.9533\n",
            "Epoch 59/200\n",
            "450/450 [==============================] - 0s 307us/step - loss: 0.0053 - accuracy: 1.0000 - val_loss: 0.1415 - val_accuracy: 0.9600\n",
            "Epoch 60/200\n",
            "450/450 [==============================] - 0s 305us/step - loss: 0.0052 - accuracy: 1.0000 - val_loss: 0.1431 - val_accuracy: 0.9533\n",
            "Epoch 61/200\n",
            "450/450 [==============================] - 0s 324us/step - loss: 0.0050 - accuracy: 1.0000 - val_loss: 0.1428 - val_accuracy: 0.9600\n",
            "Epoch 62/200\n",
            "450/450 [==============================] - 0s 303us/step - loss: 0.0050 - accuracy: 1.0000 - val_loss: 0.1447 - val_accuracy: 0.9600\n",
            "Epoch 63/200\n",
            "450/450 [==============================] - 0s 302us/step - loss: 0.0049 - accuracy: 1.0000 - val_loss: 0.1440 - val_accuracy: 0.9600\n",
            "Epoch 64/200\n",
            "450/450 [==============================] - 0s 300us/step - loss: 0.0047 - accuracy: 1.0000 - val_loss: 0.1436 - val_accuracy: 0.9600\n",
            "Epoch 65/200\n",
            "450/450 [==============================] - 0s 310us/step - loss: 0.0046 - accuracy: 1.0000 - val_loss: 0.1431 - val_accuracy: 0.9600\n",
            "Epoch 66/200\n",
            "450/450 [==============================] - 0s 313us/step - loss: 0.0046 - accuracy: 1.0000 - val_loss: 0.1406 - val_accuracy: 0.9600\n",
            "Epoch 67/200\n",
            "450/450 [==============================] - 0s 302us/step - loss: 0.0045 - accuracy: 1.0000 - val_loss: 0.1413 - val_accuracy: 0.9600\n",
            "Epoch 68/200\n",
            "450/450 [==============================] - 0s 299us/step - loss: 0.0043 - accuracy: 1.0000 - val_loss: 0.1454 - val_accuracy: 0.9600\n",
            "Epoch 69/200\n",
            "450/450 [==============================] - 0s 307us/step - loss: 0.0043 - accuracy: 1.0000 - val_loss: 0.1439 - val_accuracy: 0.9600\n",
            "Epoch 70/200\n",
            "450/450 [==============================] - 0s 302us/step - loss: 0.0042 - accuracy: 1.0000 - val_loss: 0.1416 - val_accuracy: 0.9600\n",
            "Epoch 71/200\n",
            "450/450 [==============================] - 0s 298us/step - loss: 0.0041 - accuracy: 1.0000 - val_loss: 0.1463 - val_accuracy: 0.9600\n",
            "Epoch 72/200\n",
            "450/450 [==============================] - 0s 298us/step - loss: 0.0040 - accuracy: 1.0000 - val_loss: 0.1433 - val_accuracy: 0.9600\n",
            "Epoch 73/200\n",
            "450/450 [==============================] - 0s 300us/step - loss: 0.0039 - accuracy: 1.0000 - val_loss: 0.1429 - val_accuracy: 0.9600\n",
            "Epoch 74/200\n",
            "450/450 [==============================] - 0s 319us/step - loss: 0.0039 - accuracy: 1.0000 - val_loss: 0.1430 - val_accuracy: 0.9600\n",
            "Epoch 75/200\n",
            "450/450 [==============================] - 0s 312us/step - loss: 0.0038 - accuracy: 1.0000 - val_loss: 0.1424 - val_accuracy: 0.9600\n",
            "Epoch 76/200\n",
            "450/450 [==============================] - 0s 301us/step - loss: 0.0038 - accuracy: 1.0000 - val_loss: 0.1474 - val_accuracy: 0.9600\n",
            "Epoch 77/200\n",
            "450/450 [==============================] - 0s 293us/step - loss: 0.0037 - accuracy: 1.0000 - val_loss: 0.1459 - val_accuracy: 0.9600\n",
            "Epoch 78/200\n",
            "450/450 [==============================] - 0s 299us/step - loss: 0.0036 - accuracy: 1.0000 - val_loss: 0.1473 - val_accuracy: 0.9600\n",
            "Epoch 79/200\n",
            "450/450 [==============================] - 0s 300us/step - loss: 0.0036 - accuracy: 1.0000 - val_loss: 0.1467 - val_accuracy: 0.9600\n",
            "Epoch 80/200\n",
            "450/450 [==============================] - 0s 308us/step - loss: 0.0035 - accuracy: 1.0000 - val_loss: 0.1458 - val_accuracy: 0.9600\n",
            "Epoch 81/200\n",
            "450/450 [==============================] - 0s 312us/step - loss: 0.0035 - accuracy: 1.0000 - val_loss: 0.1469 - val_accuracy: 0.9600\n",
            "Epoch 82/200\n",
            "450/450 [==============================] - 0s 304us/step - loss: 0.0034 - accuracy: 1.0000 - val_loss: 0.1458 - val_accuracy: 0.9600\n",
            "Epoch 83/200\n",
            "450/450 [==============================] - 0s 306us/step - loss: 0.0034 - accuracy: 1.0000 - val_loss: 0.1470 - val_accuracy: 0.9600\n",
            "Epoch 84/200\n",
            "450/450 [==============================] - 0s 303us/step - loss: 0.0033 - accuracy: 1.0000 - val_loss: 0.1453 - val_accuracy: 0.9533\n",
            "Epoch 85/200\n",
            "450/450 [==============================] - 0s 305us/step - loss: 0.0032 - accuracy: 1.0000 - val_loss: 0.1453 - val_accuracy: 0.9600\n",
            "Epoch 86/200\n",
            "450/450 [==============================] - 0s 300us/step - loss: 0.0032 - accuracy: 1.0000 - val_loss: 0.1483 - val_accuracy: 0.9600\n",
            "Epoch 87/200\n",
            "450/450 [==============================] - 0s 314us/step - loss: 0.0032 - accuracy: 1.0000 - val_loss: 0.1469 - val_accuracy: 0.9600\n",
            "Epoch 88/200\n",
            "450/450 [==============================] - 0s 325us/step - loss: 0.0031 - accuracy: 1.0000 - val_loss: 0.1464 - val_accuracy: 0.9600\n",
            "Epoch 89/200\n",
            "450/450 [==============================] - 0s 307us/step - loss: 0.0031 - accuracy: 1.0000 - val_loss: 0.1473 - val_accuracy: 0.9600\n",
            "Epoch 90/200\n",
            "450/450 [==============================] - 0s 303us/step - loss: 0.0030 - accuracy: 1.0000 - val_loss: 0.1459 - val_accuracy: 0.9600\n",
            "Epoch 91/200\n",
            "450/450 [==============================] - 0s 303us/step - loss: 0.0030 - accuracy: 1.0000 - val_loss: 0.1487 - val_accuracy: 0.9600\n",
            "Epoch 92/200\n",
            "450/450 [==============================] - 0s 302us/step - loss: 0.0029 - accuracy: 1.0000 - val_loss: 0.1494 - val_accuracy: 0.9600\n",
            "Epoch 93/200\n",
            "450/450 [==============================] - 0s 311us/step - loss: 0.0029 - accuracy: 1.0000 - val_loss: 0.1486 - val_accuracy: 0.9600\n",
            "Epoch 94/200\n",
            "450/450 [==============================] - 0s 308us/step - loss: 0.0029 - accuracy: 1.0000 - val_loss: 0.1490 - val_accuracy: 0.9600\n",
            "Epoch 95/200\n",
            "450/450 [==============================] - 0s 315us/step - loss: 0.0028 - accuracy: 1.0000 - val_loss: 0.1460 - val_accuracy: 0.9600\n",
            "Epoch 96/200\n",
            "450/450 [==============================] - 0s 302us/step - loss: 0.0028 - accuracy: 1.0000 - val_loss: 0.1469 - val_accuracy: 0.9600\n",
            "Epoch 97/200\n",
            "450/450 [==============================] - 0s 299us/step - loss: 0.0028 - accuracy: 1.0000 - val_loss: 0.1463 - val_accuracy: 0.9600\n",
            "Epoch 98/200\n",
            "450/450 [==============================] - 0s 306us/step - loss: 0.0027 - accuracy: 1.0000 - val_loss: 0.1474 - val_accuracy: 0.9600\n",
            "Epoch 99/200\n",
            "450/450 [==============================] - 0s 296us/step - loss: 0.0027 - accuracy: 1.0000 - val_loss: 0.1476 - val_accuracy: 0.9600\n",
            "Epoch 100/200\n",
            "450/450 [==============================] - 0s 303us/step - loss: 0.0027 - accuracy: 1.0000 - val_loss: 0.1482 - val_accuracy: 0.9600\n",
            "Epoch 101/200\n",
            "450/450 [==============================] - 0s 303us/step - loss: 0.0026 - accuracy: 1.0000 - val_loss: 0.1502 - val_accuracy: 0.9600\n",
            "Epoch 102/200\n",
            "450/450 [==============================] - 0s 302us/step - loss: 0.0026 - accuracy: 1.0000 - val_loss: 0.1486 - val_accuracy: 0.9600\n",
            "Epoch 103/200\n",
            "450/450 [==============================] - 0s 344us/step - loss: 0.0026 - accuracy: 1.0000 - val_loss: 0.1466 - val_accuracy: 0.9600\n",
            "Epoch 104/200\n",
            "450/450 [==============================] - 0s 301us/step - loss: 0.0025 - accuracy: 1.0000 - val_loss: 0.1484 - val_accuracy: 0.9600\n",
            "Epoch 105/200\n",
            "450/450 [==============================] - 0s 323us/step - loss: 0.0025 - accuracy: 1.0000 - val_loss: 0.1489 - val_accuracy: 0.9600\n",
            "Epoch 106/200\n",
            "450/450 [==============================] - 0s 295us/step - loss: 0.0025 - accuracy: 1.0000 - val_loss: 0.1508 - val_accuracy: 0.9600\n",
            "Epoch 107/200\n",
            "450/450 [==============================] - 0s 297us/step - loss: 0.0025 - accuracy: 1.0000 - val_loss: 0.1519 - val_accuracy: 0.9600\n",
            "Epoch 108/200\n",
            "450/450 [==============================] - 0s 301us/step - loss: 0.0024 - accuracy: 1.0000 - val_loss: 0.1483 - val_accuracy: 0.9600\n",
            "Epoch 109/200\n",
            "450/450 [==============================] - 0s 301us/step - loss: 0.0024 - accuracy: 1.0000 - val_loss: 0.1503 - val_accuracy: 0.9600\n",
            "Epoch 110/200\n",
            "450/450 [==============================] - 0s 317us/step - loss: 0.0024 - accuracy: 1.0000 - val_loss: 0.1491 - val_accuracy: 0.9600\n",
            "Epoch 111/200\n",
            "450/450 [==============================] - 0s 309us/step - loss: 0.0023 - accuracy: 1.0000 - val_loss: 0.1503 - val_accuracy: 0.9600\n",
            "Epoch 112/200\n",
            "450/450 [==============================] - 0s 306us/step - loss: 0.0023 - accuracy: 1.0000 - val_loss: 0.1498 - val_accuracy: 0.9600\n",
            "Epoch 113/200\n",
            "450/450 [==============================] - 0s 300us/step - loss: 0.0023 - accuracy: 1.0000 - val_loss: 0.1488 - val_accuracy: 0.9600\n",
            "Epoch 114/200\n",
            "450/450 [==============================] - 0s 299us/step - loss: 0.0023 - accuracy: 1.0000 - val_loss: 0.1498 - val_accuracy: 0.9600\n",
            "Epoch 115/200\n",
            "450/450 [==============================] - 0s 300us/step - loss: 0.0022 - accuracy: 1.0000 - val_loss: 0.1514 - val_accuracy: 0.9600\n",
            "Epoch 116/200\n",
            "450/450 [==============================] - 0s 304us/step - loss: 0.0022 - accuracy: 1.0000 - val_loss: 0.1500 - val_accuracy: 0.9600\n",
            "Epoch 117/200\n",
            "450/450 [==============================] - 0s 323us/step - loss: 0.0022 - accuracy: 1.0000 - val_loss: 0.1481 - val_accuracy: 0.9600\n",
            "Epoch 118/200\n",
            "450/450 [==============================] - 0s 297us/step - loss: 0.0022 - accuracy: 1.0000 - val_loss: 0.1508 - val_accuracy: 0.9600\n",
            "Epoch 119/200\n",
            "450/450 [==============================] - 0s 294us/step - loss: 0.0022 - accuracy: 1.0000 - val_loss: 0.1490 - val_accuracy: 0.9600\n",
            "Epoch 120/200\n",
            "450/450 [==============================] - 0s 299us/step - loss: 0.0021 - accuracy: 1.0000 - val_loss: 0.1498 - val_accuracy: 0.9600\n",
            "Epoch 121/200\n",
            "450/450 [==============================] - 0s 303us/step - loss: 0.0021 - accuracy: 1.0000 - val_loss: 0.1493 - val_accuracy: 0.9600\n",
            "Epoch 122/200\n",
            "450/450 [==============================] - 0s 310us/step - loss: 0.0021 - accuracy: 1.0000 - val_loss: 0.1496 - val_accuracy: 0.9600\n",
            "Epoch 123/200\n",
            "450/450 [==============================] - 0s 294us/step - loss: 0.0021 - accuracy: 1.0000 - val_loss: 0.1521 - val_accuracy: 0.9600\n",
            "Epoch 124/200\n",
            "450/450 [==============================] - 0s 298us/step - loss: 0.0021 - accuracy: 1.0000 - val_loss: 0.1514 - val_accuracy: 0.9600\n",
            "Epoch 125/200\n",
            "450/450 [==============================] - 0s 313us/step - loss: 0.0020 - accuracy: 1.0000 - val_loss: 0.1503 - val_accuracy: 0.9600\n",
            "Epoch 126/200\n",
            "450/450 [==============================] - 0s 297us/step - loss: 0.0020 - accuracy: 1.0000 - val_loss: 0.1502 - val_accuracy: 0.9600\n",
            "Epoch 127/200\n",
            "450/450 [==============================] - 0s 298us/step - loss: 0.0020 - accuracy: 1.0000 - val_loss: 0.1504 - val_accuracy: 0.9600\n",
            "Epoch 128/200\n",
            "450/450 [==============================] - 0s 294us/step - loss: 0.0020 - accuracy: 1.0000 - val_loss: 0.1514 - val_accuracy: 0.9600\n",
            "Epoch 129/200\n",
            "450/450 [==============================] - 0s 299us/step - loss: 0.0020 - accuracy: 1.0000 - val_loss: 0.1515 - val_accuracy: 0.9600\n",
            "Epoch 130/200\n",
            "450/450 [==============================] - 0s 310us/step - loss: 0.0020 - accuracy: 1.0000 - val_loss: 0.1509 - val_accuracy: 0.9600\n",
            "Epoch 131/200\n",
            "450/450 [==============================] - 0s 300us/step - loss: 0.0019 - accuracy: 1.0000 - val_loss: 0.1504 - val_accuracy: 0.9600\n",
            "Epoch 132/200\n",
            "450/450 [==============================] - 0s 311us/step - loss: 0.0019 - accuracy: 1.0000 - val_loss: 0.1501 - val_accuracy: 0.9600\n",
            "Epoch 133/200\n",
            "450/450 [==============================] - 0s 300us/step - loss: 0.0019 - accuracy: 1.0000 - val_loss: 0.1497 - val_accuracy: 0.9600\n",
            "Epoch 134/200\n",
            "450/450 [==============================] - 0s 299us/step - loss: 0.0019 - accuracy: 1.0000 - val_loss: 0.1505 - val_accuracy: 0.9600\n",
            "Epoch 135/200\n",
            "450/450 [==============================] - 0s 302us/step - loss: 0.0019 - accuracy: 1.0000 - val_loss: 0.1513 - val_accuracy: 0.9600\n",
            "Epoch 136/200\n",
            "450/450 [==============================] - 0s 311us/step - loss: 0.0019 - accuracy: 1.0000 - val_loss: 0.1521 - val_accuracy: 0.9600\n",
            "Epoch 137/200\n",
            "450/450 [==============================] - 0s 302us/step - loss: 0.0018 - accuracy: 1.0000 - val_loss: 0.1516 - val_accuracy: 0.9600\n",
            "Epoch 138/200\n",
            "450/450 [==============================] - 0s 300us/step - loss: 0.0018 - accuracy: 1.0000 - val_loss: 0.1507 - val_accuracy: 0.9600\n",
            "Epoch 139/200\n",
            "450/450 [==============================] - 0s 328us/step - loss: 0.0018 - accuracy: 1.0000 - val_loss: 0.1522 - val_accuracy: 0.9600\n",
            "Epoch 140/200\n",
            "450/450 [==============================] - 0s 302us/step - loss: 0.0018 - accuracy: 1.0000 - val_loss: 0.1528 - val_accuracy: 0.9600\n",
            "Epoch 141/200\n",
            "450/450 [==============================] - 0s 297us/step - loss: 0.0018 - accuracy: 1.0000 - val_loss: 0.1529 - val_accuracy: 0.9600\n",
            "Epoch 142/200\n",
            "450/450 [==============================] - 0s 301us/step - loss: 0.0018 - accuracy: 1.0000 - val_loss: 0.1531 - val_accuracy: 0.9600\n",
            "Epoch 143/200\n",
            "450/450 [==============================] - 0s 297us/step - loss: 0.0017 - accuracy: 1.0000 - val_loss: 0.1522 - val_accuracy: 0.9600\n",
            "Epoch 144/200\n",
            "450/450 [==============================] - 0s 307us/step - loss: 0.0017 - accuracy: 1.0000 - val_loss: 0.1518 - val_accuracy: 0.9600\n",
            "Epoch 145/200\n",
            "450/450 [==============================] - 0s 291us/step - loss: 0.0017 - accuracy: 1.0000 - val_loss: 0.1526 - val_accuracy: 0.9600\n",
            "Epoch 146/200\n",
            "450/450 [==============================] - 0s 299us/step - loss: 0.0017 - accuracy: 1.0000 - val_loss: 0.1532 - val_accuracy: 0.9600\n",
            "Epoch 147/200\n",
            "450/450 [==============================] - 0s 307us/step - loss: 0.0017 - accuracy: 1.0000 - val_loss: 0.1530 - val_accuracy: 0.9600\n",
            "Epoch 148/200\n",
            "450/450 [==============================] - 0s 302us/step - loss: 0.0017 - accuracy: 1.0000 - val_loss: 0.1519 - val_accuracy: 0.9600\n",
            "Epoch 149/200\n",
            "450/450 [==============================] - 0s 322us/step - loss: 0.0017 - accuracy: 1.0000 - val_loss: 0.1530 - val_accuracy: 0.9600\n",
            "Epoch 150/200\n",
            "450/450 [==============================] - 0s 295us/step - loss: 0.0017 - accuracy: 1.0000 - val_loss: 0.1535 - val_accuracy: 0.9600\n",
            "Epoch 151/200\n",
            "450/450 [==============================] - 0s 299us/step - loss: 0.0016 - accuracy: 1.0000 - val_loss: 0.1529 - val_accuracy: 0.9600\n",
            "Epoch 152/200\n",
            "450/450 [==============================] - 0s 299us/step - loss: 0.0016 - accuracy: 1.0000 - val_loss: 0.1527 - val_accuracy: 0.9600\n",
            "Epoch 153/200\n",
            "450/450 [==============================] - 0s 305us/step - loss: 0.0016 - accuracy: 1.0000 - val_loss: 0.1539 - val_accuracy: 0.9600\n",
            "Epoch 154/200\n",
            "450/450 [==============================] - 0s 339us/step - loss: 0.0016 - accuracy: 1.0000 - val_loss: 0.1533 - val_accuracy: 0.9600\n",
            "Epoch 155/200\n",
            "450/450 [==============================] - 0s 308us/step - loss: 0.0016 - accuracy: 1.0000 - val_loss: 0.1542 - val_accuracy: 0.9600\n",
            "Epoch 156/200\n",
            "450/450 [==============================] - 0s 296us/step - loss: 0.0016 - accuracy: 1.0000 - val_loss: 0.1532 - val_accuracy: 0.9600\n",
            "Epoch 157/200\n",
            "450/450 [==============================] - 0s 301us/step - loss: 0.0016 - accuracy: 1.0000 - val_loss: 0.1541 - val_accuracy: 0.9600\n",
            "Epoch 158/200\n",
            "450/450 [==============================] - 0s 321us/step - loss: 0.0016 - accuracy: 1.0000 - val_loss: 0.1545 - val_accuracy: 0.9600\n",
            "Epoch 159/200\n",
            "450/450 [==============================] - 0s 301us/step - loss: 0.0015 - accuracy: 1.0000 - val_loss: 0.1545 - val_accuracy: 0.9600\n",
            "Epoch 160/200\n",
            "450/450 [==============================] - 0s 297us/step - loss: 0.0015 - accuracy: 1.0000 - val_loss: 0.1546 - val_accuracy: 0.9600\n",
            "Epoch 161/200\n",
            "450/450 [==============================] - 0s 316us/step - loss: 0.0015 - accuracy: 1.0000 - val_loss: 0.1548 - val_accuracy: 0.9600\n",
            "Epoch 162/200\n",
            "450/450 [==============================] - 0s 304us/step - loss: 0.0015 - accuracy: 1.0000 - val_loss: 0.1557 - val_accuracy: 0.9600\n",
            "Epoch 163/200\n",
            "450/450 [==============================] - 0s 304us/step - loss: 0.0015 - accuracy: 1.0000 - val_loss: 0.1546 - val_accuracy: 0.9600\n",
            "Epoch 164/200\n",
            "450/450 [==============================] - 0s 304us/step - loss: 0.0015 - accuracy: 1.0000 - val_loss: 0.1547 - val_accuracy: 0.9600\n",
            "Epoch 165/200\n",
            "450/450 [==============================] - 0s 303us/step - loss: 0.0015 - accuracy: 1.0000 - val_loss: 0.1550 - val_accuracy: 0.9600\n",
            "Epoch 166/200\n",
            "450/450 [==============================] - 0s 298us/step - loss: 0.0015 - accuracy: 1.0000 - val_loss: 0.1550 - val_accuracy: 0.9600\n",
            "Epoch 167/200\n",
            "450/450 [==============================] - 0s 298us/step - loss: 0.0015 - accuracy: 1.0000 - val_loss: 0.1545 - val_accuracy: 0.9600\n",
            "Epoch 168/200\n",
            "450/450 [==============================] - 0s 299us/step - loss: 0.0015 - accuracy: 1.0000 - val_loss: 0.1554 - val_accuracy: 0.9600\n",
            "Epoch 169/200\n",
            "450/450 [==============================] - 0s 310us/step - loss: 0.0014 - accuracy: 1.0000 - val_loss: 0.1552 - val_accuracy: 0.9600\n",
            "Epoch 170/200\n",
            "450/450 [==============================] - 0s 294us/step - loss: 0.0014 - accuracy: 1.0000 - val_loss: 0.1546 - val_accuracy: 0.9600\n",
            "Epoch 171/200\n",
            "450/450 [==============================] - 0s 296us/step - loss: 0.0014 - accuracy: 1.0000 - val_loss: 0.1556 - val_accuracy: 0.9600\n",
            "Epoch 172/200\n",
            "450/450 [==============================] - 0s 302us/step - loss: 0.0014 - accuracy: 1.0000 - val_loss: 0.1558 - val_accuracy: 0.9600\n",
            "Epoch 173/200\n",
            "450/450 [==============================] - 0s 296us/step - loss: 0.0014 - accuracy: 1.0000 - val_loss: 0.1554 - val_accuracy: 0.9600\n",
            "Epoch 174/200\n",
            "450/450 [==============================] - 0s 296us/step - loss: 0.0014 - accuracy: 1.0000 - val_loss: 0.1557 - val_accuracy: 0.9600\n",
            "Epoch 175/200\n",
            "450/450 [==============================] - 0s 301us/step - loss: 0.0014 - accuracy: 1.0000 - val_loss: 0.1555 - val_accuracy: 0.9600\n",
            "Epoch 176/200\n",
            "450/450 [==============================] - 0s 311us/step - loss: 0.0014 - accuracy: 1.0000 - val_loss: 0.1556 - val_accuracy: 0.9600\n",
            "Epoch 177/200\n",
            "450/450 [==============================] - 0s 292us/step - loss: 0.0014 - accuracy: 1.0000 - val_loss: 0.1557 - val_accuracy: 0.9600\n",
            "Epoch 178/200\n",
            "450/450 [==============================] - 0s 298us/step - loss: 0.0014 - accuracy: 1.0000 - val_loss: 0.1564 - val_accuracy: 0.9600\n",
            "Epoch 179/200\n",
            "450/450 [==============================] - 0s 297us/step - loss: 0.0014 - accuracy: 1.0000 - val_loss: 0.1555 - val_accuracy: 0.9600\n",
            "Epoch 180/200\n",
            "450/450 [==============================] - 0s 295us/step - loss: 0.0013 - accuracy: 1.0000 - val_loss: 0.1562 - val_accuracy: 0.9600\n",
            "Epoch 181/200\n",
            "450/450 [==============================] - 0s 299us/step - loss: 0.0013 - accuracy: 1.0000 - val_loss: 0.1561 - val_accuracy: 0.9600\n",
            "Epoch 182/200\n",
            "450/450 [==============================] - 0s 304us/step - loss: 0.0013 - accuracy: 1.0000 - val_loss: 0.1561 - val_accuracy: 0.9600\n",
            "Epoch 183/200\n",
            "450/450 [==============================] - 0s 355us/step - loss: 0.0013 - accuracy: 1.0000 - val_loss: 0.1567 - val_accuracy: 0.9600\n",
            "Epoch 184/200\n",
            "450/450 [==============================] - 0s 293us/step - loss: 0.0013 - accuracy: 1.0000 - val_loss: 0.1564 - val_accuracy: 0.9600\n",
            "Epoch 185/200\n",
            "450/450 [==============================] - 0s 296us/step - loss: 0.0013 - accuracy: 1.0000 - val_loss: 0.1563 - val_accuracy: 0.9600\n",
            "Epoch 186/200\n",
            "450/450 [==============================] - 0s 293us/step - loss: 0.0013 - accuracy: 1.0000 - val_loss: 0.1569 - val_accuracy: 0.9600\n",
            "Epoch 187/200\n",
            "450/450 [==============================] - 0s 299us/step - loss: 0.0013 - accuracy: 1.0000 - val_loss: 0.1570 - val_accuracy: 0.9600\n",
            "Epoch 188/200\n",
            "450/450 [==============================] - 0s 298us/step - loss: 0.0013 - accuracy: 1.0000 - val_loss: 0.1567 - val_accuracy: 0.9600\n",
            "Epoch 189/200\n",
            "450/450 [==============================] - 0s 330us/step - loss: 0.0013 - accuracy: 1.0000 - val_loss: 0.1575 - val_accuracy: 0.9600\n",
            "Epoch 190/200\n",
            "450/450 [==============================] - 0s 298us/step - loss: 0.0013 - accuracy: 1.0000 - val_loss: 0.1573 - val_accuracy: 0.9600\n",
            "Epoch 191/200\n",
            "450/450 [==============================] - 0s 310us/step - loss: 0.0013 - accuracy: 1.0000 - val_loss: 0.1573 - val_accuracy: 0.9600\n",
            "Epoch 192/200\n",
            "450/450 [==============================] - 0s 314us/step - loss: 0.0013 - accuracy: 1.0000 - val_loss: 0.1572 - val_accuracy: 0.9600\n",
            "Epoch 193/200\n",
            "450/450 [==============================] - 0s 308us/step - loss: 0.0012 - accuracy: 1.0000 - val_loss: 0.1577 - val_accuracy: 0.9600\n",
            "Epoch 194/200\n",
            "450/450 [==============================] - 0s 297us/step - loss: 0.0012 - accuracy: 1.0000 - val_loss: 0.1575 - val_accuracy: 0.9600\n",
            "Epoch 195/200\n",
            "450/450 [==============================] - 0s 300us/step - loss: 0.0012 - accuracy: 1.0000 - val_loss: 0.1575 - val_accuracy: 0.9600\n",
            "Epoch 196/200\n",
            "450/450 [==============================] - 0s 299us/step - loss: 0.0012 - accuracy: 1.0000 - val_loss: 0.1576 - val_accuracy: 0.9600\n",
            "Epoch 197/200\n",
            "450/450 [==============================] - 0s 302us/step - loss: 0.0012 - accuracy: 1.0000 - val_loss: 0.1578 - val_accuracy: 0.9600\n",
            "Epoch 198/200\n",
            "450/450 [==============================] - 0s 305us/step - loss: 0.0012 - accuracy: 1.0000 - val_loss: 0.1575 - val_accuracy: 0.9600\n",
            "Epoch 199/200\n",
            "450/450 [==============================] - 0s 295us/step - loss: 0.0012 - accuracy: 1.0000 - val_loss: 0.1578 - val_accuracy: 0.9600\n",
            "Epoch 200/200\n",
            "450/450 [==============================] - 0s 295us/step - loss: 0.0012 - accuracy: 1.0000 - val_loss: 0.1576 - val_accuracy: 0.9600\n"
          ],
          "name": "stdout"
        }
      ]
    },
    {
      "cell_type": "code",
      "metadata": {
        "id": "TsTMTj9fJIZU",
        "colab_type": "code",
        "outputId": "2b9b5635-47dd-4a0a-ac80-1750e556fd53",
        "colab": {
          "base_uri": "https://localhost:8080/",
          "height": 493
        }
      },
      "source": [
        "# Plot Training Loss and Training Accuracy\n",
        "plt.figure(figsize=(8,4))\n",
        "plt.subplot(1, 2, 1)\n",
        "plt.title(\"Training loss\")\n",
        "plt.plot(range(epochs),hist.history[\"loss\"])\n",
        "\n",
        "plt.subplot(1, 2, 2)\n",
        "plt.title(\"Training Accuracy\")\n",
        "plt.plot(range(epochs),hist.history[\"acc\"])\n",
        "\n",
        "plt.tight_layout()"
      ],
      "execution_count": 0,
      "outputs": [
        {
          "output_type": "error",
          "ename": "KeyError",
          "evalue": "ignored",
          "traceback": [
            "\u001b[0;31m---------------------------------------------------------------------------\u001b[0m",
            "\u001b[0;31mKeyError\u001b[0m                                  Traceback (most recent call last)",
            "\u001b[0;32m<ipython-input-33-5730de4689bf>\u001b[0m in \u001b[0;36m<module>\u001b[0;34m()\u001b[0m\n\u001b[1;32m      6\u001b[0m \u001b[0mplt\u001b[0m\u001b[0;34m.\u001b[0m\u001b[0msubplot\u001b[0m\u001b[0;34m(\u001b[0m\u001b[0;36m1\u001b[0m\u001b[0;34m,\u001b[0m \u001b[0;36m2\u001b[0m\u001b[0;34m,\u001b[0m \u001b[0;36m2\u001b[0m\u001b[0;34m)\u001b[0m\u001b[0;34m\u001b[0m\u001b[0;34m\u001b[0m\u001b[0m\n\u001b[1;32m      7\u001b[0m \u001b[0mplt\u001b[0m\u001b[0;34m.\u001b[0m\u001b[0mtitle\u001b[0m\u001b[0;34m(\u001b[0m\u001b[0;34m\"Training Accuracy\"\u001b[0m\u001b[0;34m)\u001b[0m\u001b[0;34m\u001b[0m\u001b[0;34m\u001b[0m\u001b[0m\n\u001b[0;32m----> 8\u001b[0;31m \u001b[0mplt\u001b[0m\u001b[0;34m.\u001b[0m\u001b[0mplot\u001b[0m\u001b[0;34m(\u001b[0m\u001b[0mrange\u001b[0m\u001b[0;34m(\u001b[0m\u001b[0mepochs\u001b[0m\u001b[0;34m)\u001b[0m\u001b[0;34m,\u001b[0m\u001b[0mhist\u001b[0m\u001b[0;34m.\u001b[0m\u001b[0mhistory\u001b[0m\u001b[0;34m[\u001b[0m\u001b[0;34m\"acc\"\u001b[0m\u001b[0;34m]\u001b[0m\u001b[0;34m)\u001b[0m\u001b[0;34m\u001b[0m\u001b[0;34m\u001b[0m\u001b[0m\n\u001b[0m\u001b[1;32m      9\u001b[0m \u001b[0;34m\u001b[0m\u001b[0m\n\u001b[1;32m     10\u001b[0m \u001b[0mplt\u001b[0m\u001b[0;34m.\u001b[0m\u001b[0mtight_layout\u001b[0m\u001b[0;34m(\u001b[0m\u001b[0;34m)\u001b[0m\u001b[0;34m\u001b[0m\u001b[0;34m\u001b[0m\u001b[0m\n",
            "\u001b[0;31mKeyError\u001b[0m: 'acc'"
          ]
        },
        {
          "output_type": "display_data",
          "data": {
            "image/png": "[encoded data removed]",
            "text/plain": [
              "<Figure size 576x288 with 2 Axes>"
            ]
          },
          "metadata": {
            "tags": [],
            "needs_background": "light"
          }
        }
      ]
    },
    {
      "cell_type": "code",
      "metadata": {
        "id": "9i4aux1JJWdP",
        "colab_type": "code",
        "colab": {}
      },
      "source": [
        "# Predict\n",
        "predictions = model_d.predict(test_set_d)\n",
        "predictions_round=predictions.round().astype('int')\n",
        "predictions_int=np.argmax(predictions_round,axis=2)\n",
        "predictions_labels=labelencoder.inverse_transform(np.ravel(predictions_int))"
      ],
      "execution_count": 0,
      "outputs": []
    },
    {
      "cell_type": "code",
      "metadata": {
        "id": "_VDiNLuDJfpB",
        "colab_type": "code",
        "outputId": "7664b4fc-c043-4155-aae7-84ef944d751f",
        "colab": {
          "base_uri": "https://localhost:8080/",
          "height": 101
        }
      },
      "source": [
        "print(\"Recall: \", recall_score(test_classes, predictions_int,average=None))\n",
        "\n",
        "# Precision - The precision is intuitively the ability of the classifier not to label as positive a sample that is negatives\n",
        "print(\"Precision: \", precision_score(test_classes, predictions_int,average=None))\n",
        "\n",
        "# F1-Score - The F1 score can be interpreted as a weighted average of the precision and recall,\n",
        "print(\"F1-Score: \", f1_score(test_classes, predictions_int, average=None))\n",
        "\n",
        "# Accuracy - the number of correctly classified samples\n",
        "print(\"Accuracy: \", accuracy_score(test_classes, predictions_int,normalize=False))\n",
        "print(\"Number of samples:\",test_classes.shape[0])"
      ],
      "execution_count": 0,
      "outputs": [
        {
          "output_type": "stream",
          "text": [
            "Recall:  [0.92 1.   0.96 1.   0.88 0.96]\n",
            "Precision:  [0.92       1.         1.         0.96153846 0.91666667 0.92307692]\n",
            "F1-Score:  [0.92       1.         0.97959184 0.98039216 0.89795918 0.94117647]\n",
            "Accuracy:  143\n",
            "Number of samples: 150\n"
          ],
          "name": "stdout"
        }
      ]
    },
    {
      "cell_type": "code",
      "metadata": {
        "id": "CGHz0iaIJmyV",
        "colab_type": "code",
        "colab": {}
      },
      "source": [
        "# Compute confusion matrix\n",
        "cnf_matrix = confusion_matrix(test_classes, predictions_int)\n",
        "np.set_printoptions(precision=2)"
      ],
      "execution_count": 0,
      "outputs": []
    },
    {
      "cell_type": "code",
      "metadata": {
        "id": "0sRT7dqdJtOU",
        "colab_type": "code",
        "colab": {}
      },
      "source": [
        "# Function to Plot Confusion Matrix\n",
        "# http://scikit-learn.org/stable/auto_examples/model_selection/plot_confusion_matrix.html\n",
        "def plot_confusion_matrix(cm, classes,\n",
        "                          normalize=False,\n",
        "                          title='Confusion matrix',\n",
        "                          cmap=plt.cm.Blues):\n",
        "    \"\"\"\n",
        "    This function prints and plots the confusion matrix.\n",
        "    Normalization can be applied by setting `normalize=True`.\n",
        "    \n",
        "    if normalize:\n",
        "        cm = cm.astype('float') / cm.sum(axis=1)[:, np.newaxis]\n",
        "        print(\"Normalized confusion matrix\")\n",
        "    else:\n",
        "        print('Confusion matrix, without normalization')\n",
        "    \"\"\"\n",
        "    #print(cm)\n",
        "\n",
        "    plt.imshow(cm, interpolation='nearest', cmap=cmap)\n",
        "    plt.title(title)\n",
        "    plt.colorbar()\n",
        "    tick_marks = np.arange(len(classes))\n",
        "    plt.xticks(tick_marks, classes, rotation=45)\n",
        "    plt.yticks(tick_marks, classes)\n",
        "\n",
        "    fmt = '.2f' if normalize else 'd'\n",
        "    thresh = cm.max() / 2.\n",
        "    for i, j in itertools.product(range(cm.shape[0]), range(cm.shape[1])):\n",
        "        plt.text(j, i, format(cm[i, j], fmt),\n",
        "                 horizontalalignment=\"center\",\n",
        "                 color=\"white\" if cm[i, j] > thresh else \"black\")\n",
        "\n",
        "    plt.tight_layout()\n",
        "    plt.ylabel('True label')\n",
        "    plt.xlabel('Predicted label')"
      ],
      "execution_count": 0,
      "outputs": []
    },
    {
      "cell_type": "code",
      "metadata": {
        "id": "pnjs7aLWJxN_",
        "colab_type": "code",
        "outputId": "423f5fa8-1f8b-4969-d82d-b005bdf13167",
        "colab": {
          "base_uri": "https://localhost:8080/",
          "height": 887
        }
      },
      "source": [
        "# Plot non-normalized confusion matrix\n",
        "plt.figure(figsize=(16,12))\n",
        "plot_confusion_matrix(cnf_matrix, classes=labelencoder.classes_,\n",
        "                      title='Confusion matrix, without normalization')"
      ],
      "execution_count": 0,
      "outputs": [
        {
          "output_type": "display_data",
          "data": {
            "image/png": "[encoded data removed]",
            "text/plain": [
              "<Figure size 1152x864 with 2 Axes>"
            ]
          },
          "metadata": {
            "tags": [],
            "needs_background": "light"
          }
        }
      ]
    },
    {
      "cell_type": "code",
      "metadata": {
        "id": "kjD3GxKSJ4XA",
        "colab_type": "code",
        "colab": {}
      },
      "source": [
        ""
      ],
      "execution_count": 0,
      "outputs": []
    }
  ]
}